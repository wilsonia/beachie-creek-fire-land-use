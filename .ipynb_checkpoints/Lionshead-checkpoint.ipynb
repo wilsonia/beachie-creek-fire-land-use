{
 "cells": [
  {
   "cell_type": "markdown",
   "metadata": {},
   "source": [
    "- Ownership data and fire perimeters have been projected to EPSG 4326. Intersections of these areas are projected to EPSG 3857 for area calculation and then plotting on a map. If I could do this again, I would keep everything in 3857. "
   ]
  },
  {
   "cell_type": "code",
   "execution_count": 17,
   "metadata": {},
   "outputs": [],
   "source": [
    "import json\n",
    "import pandas as pd\n",
    "import geopandas as gpd\n",
    "import numpy as np\n",
    "from datetime import datetime, timezone\n",
    "import matplotlib.pyplot as plt\n",
    "import matplotlib.animation as animation\n",
    "import pickle\n",
    "import pyproj\n",
    "from shapely.geometry import shape\n",
    "from shapely.geometry import Polygon\n",
    "from shapely.ops import transform\n",
    "from functools import partial\n",
    "import contextily as ctx"
   ]
  },
  {
   "cell_type": "code",
   "execution_count": 8,
   "metadata": {},
   "outputs": [],
   "source": [
    "# Collect archived beachie creek fire perimeters\n",
    "# https://services3.arcgis.com/T4QMspbfLg3qTGWY/arcgis/rest/services/Archived_Wildfire_Perimeters2/FeatureServer/0/query?where=IncidentName%20%3D%20%27BEACHIE%20CREEK%27&outFields=*&outSR=4326&f=geojson\n",
    "\n",
    "beachie_perimeters = gpd.read_file('fire_perimeters/beachie_archives_09_22.geojson')"
   ]
  },
  {
   "cell_type": "code",
   "execution_count": 6,
   "metadata": {},
   "outputs": [],
   "source": [
    "# Collect ownership layers (vectorized in QGIS)\n",
    "# https://www.fs.usda.gov/rds/archive/Catalog/RDS-2020-0044\n",
    "\n",
    "tribal = gpd.read_file('ownerships/tribal_dissolved.geojson')\n",
    "federal = gpd.read_file('ownerships/federal_dissolved.geojson')\n",
    "state = gpd.read_file('ownerships/state_dissolved.geojson')\n",
    "local = gpd.read_file('ownerships/local_dissolved.geojson')\n",
    "corporate = gpd.read_file('ownerships/corporate_dissolved.geojson')\n",
    "timo = gpd.read_file('ownerships/timo_reit_dissolved.geojson')\n",
    "private = gpd.read_file('ownerships/private_other_dissolved.geojson')\n",
    "\n",
    "# Collect USFS \"Timber Production Primary Emphasis\" land suitability class\n",
    "# https://apps.fs.usda.gov/arcx/rest/services/EDW/EDW_TimberHarvest_01/MapServer/8/query?where=ADMIN_FOREST_CODE%20%3D%20%2706%27%20AND%20ADMIN_REGION_CODE%20%3D%20%2706%27%20AND%20LAND_SUITABILITY_CLASS_CODE%20%3D%20%27500%27&outFields=*&outSR=4326&f=geojson\n",
    "usfs_files = ['ownerships/hood_2.geojson', 'ownerships/willamette_1.geojson', 'ownerships/willamette_2.geojson', 'ownerships/willamette_3.geojson', 'ownerships/willamette_4.geojson', 'ownerships/willamette_5.geojson', 'ownerships/willamette_6.geojson']\n",
    "usfs_timber = gpd.read_file('ownerships/hood_1.geojson')\n",
    "for usfs_file in usfs_files:\n",
    "    usfs_timber = usfs_timber.append(gpd.read_file(usfs_file))\n",
    "    \n",
    "ownerships = { 'tribal': tribal, 'federal': federal, 'state': state, 'local': local, 'corporate': corporate,\n",
    "               'timo': timo, 'private': private , 'usfs_timber': usfs_timber}"
   ]
  },
  {
   "cell_type": "code",
   "execution_count": 10,
   "metadata": {},
   "outputs": [
    {
     "name": "stdout",
     "output_type": "stream",
     "text": [
      "tribal done\n",
      "federal done\n",
      "state done\n",
      "local done\n",
      "corporate done\n",
      "timo done\n",
      "private done\n",
      "usfs_timber done\n"
     ]
    }
   ],
   "source": [
    "# Find intersections of fire area and each ownership area\n",
    "# this takes a while\n",
    "\n",
    "intersections = {}\n",
    "\n",
    "for key in ownerships:\n",
    "    intersection = {}\n",
    "    for i in range(len(beachie_perimeters)):\n",
    "        perimeter_date = beachie_perimeters.iloc[i].GDB_TO_DATE\n",
    "        perimeter = gpd.GeoDataFrame({'geometry': [beachie_perimeters.iloc[i].geometry]})\n",
    "        intersection[perimeter_date] = gpd.overlay(perimeter, ownerships[key], how='intersection')\n",
    "    \n",
    "    intersections[key] = intersection\n",
    "    print(f'{key} done')"
   ]
  },
  {
   "cell_type": "code",
   "execution_count": 146,
   "metadata": {},
   "outputs": [],
   "source": [
    "# Save interesctions\n",
    "pickle.dump(intersections, open(\"intersections.p\", \"wb\"))"
   ]
  },
  {
   "cell_type": "code",
   "execution_count": 3,
   "metadata": {},
   "outputs": [],
   "source": [
    "# Load intersections\n",
    "intersections = pickle.load( open( \"intersections.p\", \"rb\" ) )"
   ]
  },
  {
   "cell_type": "code",
   "execution_count": 148,
   "metadata": {},
   "outputs": [
    {
     "name": "stdout",
     "output_type": "stream",
     "text": [
      "tribal done\n",
      "federal done\n",
      "state done\n",
      "local done\n",
      "corporate done\n",
      "timo done\n",
      "private done\n",
      "usfs_timber done\n"
     ]
    }
   ],
   "source": [
    "# Find areas of intersection in meters squared\n",
    "# this takes a while\n",
    "\n",
    "proj = partial(pyproj.transform, pyproj.Proj(init='epsg:4326'),\n",
    "               pyproj.Proj(init='epsg:3857'))\n",
    "\n",
    "intersection_areas = {}\n",
    "for ownership in ownerships:\n",
    "    ownership_area = {}\n",
    "    for time in beachie_perimeters.GDB_TO_DATE:\n",
    "        projected_area = 0\n",
    "        for geo in intersections[ownership][time].geometry:\n",
    "            projected_area += transform(proj, geo).area\n",
    "        ownership_area[time] = projected_area\n",
    "    intersection_areas[ownership] = ownership_area\n",
    "    print(f'{ownership} done')"
   ]
  },
  {
   "cell_type": "code",
   "execution_count": 149,
   "metadata": {},
   "outputs": [],
   "source": [
    "# Save intersection areas\n",
    "pickle.dump(intersection_areas, open(\"intersection_areas.p\", \"wb\"))"
   ]
  },
  {
   "cell_type": "code",
   "execution_count": 4,
   "metadata": {},
   "outputs": [],
   "source": [
    "# Load intersection areas\n",
    "intersection_areas = pickle.load( open( \"intersection_areas.p\", \"rb\" ) )"
   ]
  },
  {
   "cell_type": "code",
   "execution_count": 9,
   "metadata": {},
   "outputs": [],
   "source": [
    "# Convert intersection areas from meters squared to acres\n",
    "intersection_areas_acres = intersection_areas\n",
    "for ownership in ownerships:\n",
    "    for time in beachie_perimeters.GDB_TO_DATE:\n",
    "        intersection_areas_acres[ownership][time] *= 0.000247105"
   ]
  },
  {
   "cell_type": "code",
   "execution_count": 10,
   "metadata": {},
   "outputs": [],
   "source": [
    "# Tally timber, non-timber acres\n",
    "timber_acres = []\n",
    "non_timber_acres = []\n",
    "for time in beachie_perimeters.GDB_TO_DATE:\n",
    "    non_timber_acres.append(intersection_areas['federal'][time] - intersection_areas['usfs_timber'][time])\n",
    "    timber_acres.append(intersection_areas['usfs_timber'][time] + intersection_areas['state'][time] + intersection_areas['private'][time] + intersection_areas['corporate'][time] + intersection_areas['timo'][time])"
   ]
  },
  {
   "cell_type": "code",
   "execution_count": 11,
   "metadata": {},
   "outputs": [],
   "source": [
    "# Linear interpolate for animation\n",
    "times = np.linspace(beachie_perimeters.iloc[0].GDB_TO_DATE, beachie_perimeters.iloc[-5].GDB_TO_DATE, 100)\n",
    "non_timber_acres_anim = []\n",
    "timber_acres_anim = []\n",
    "for time in times:\n",
    "    non_timber_acres_anim.append(np.interp(time, beachie_perimeters.GDB_TO_DATE, non_timber_acres))\n",
    "    timber_acres_anim.append(np.interp(time, beachie_perimeters.GDB_TO_DATE, timber_acres))"
   ]
  },
  {
   "cell_type": "code",
   "execution_count": 12,
   "metadata": {
    "scrolled": true
   },
   "outputs": [
    {
     "name": "stdout",
     "output_type": "stream",
     "text": [
      "0.0\n",
      "0.01\n",
      "0.02\n",
      "0.03\n",
      "0.04\n",
      "0.05\n",
      "0.06\n",
      "0.07\n",
      "0.08\n",
      "0.09\n",
      "0.1\n",
      "0.11\n",
      "0.12\n",
      "0.13\n",
      "0.14\n",
      "0.15\n",
      "0.16\n",
      "0.17\n",
      "0.18\n",
      "0.19\n",
      "0.2\n",
      "0.21\n",
      "0.22\n",
      "0.23\n",
      "0.24\n",
      "0.25\n",
      "0.26\n",
      "0.27\n",
      "0.28\n",
      "0.29\n",
      "0.3\n",
      "0.31\n",
      "0.32\n",
      "0.33\n",
      "0.34\n",
      "0.35\n",
      "0.36\n",
      "0.37\n",
      "0.38\n",
      "0.39\n",
      "0.4\n",
      "0.41\n",
      "0.42\n",
      "0.43\n",
      "0.44\n",
      "0.45\n",
      "0.46\n",
      "0.47\n",
      "0.48\n",
      "0.49\n",
      "0.5\n",
      "0.51\n",
      "0.52\n",
      "0.53\n",
      "0.54\n",
      "0.55\n",
      "0.56\n",
      "0.57\n",
      "0.58\n",
      "0.59\n",
      "0.6\n",
      "0.61\n",
      "0.62\n",
      "0.63\n",
      "0.64\n",
      "0.65\n",
      "0.66\n",
      "0.67\n",
      "0.68\n",
      "0.69\n",
      "0.7\n",
      "0.71\n",
      "0.72\n",
      "0.73\n",
      "0.74\n",
      "0.75\n",
      "0.76\n",
      "0.77\n",
      "0.78\n",
      "0.79\n",
      "0.8\n",
      "0.81\n",
      "0.82\n",
      "0.83\n",
      "0.84\n",
      "0.85\n",
      "0.86\n",
      "0.87\n",
      "0.88\n",
      "0.89\n",
      "0.9\n",
      "0.91\n",
      "0.92\n",
      "0.93\n"
     ]
    },
    {
     "name": "stderr",
     "output_type": "stream",
     "text": [
      "TopologyException: found non-noded intersection between LINESTRING (-122.397 45.0095, -122.397 45.0095) and LINESTRING (-122.397 45.0095, -122.397 45.0095) at -122.39692372239337 45.009534975929078\n"
     ]
    },
    {
     "name": "stdout",
     "output_type": "stream",
     "text": [
      "0.94\n"
     ]
    },
    {
     "name": "stderr",
     "output_type": "stream",
     "text": [
      "TopologyException: found non-noded intersection between LINESTRING (-122.397 45.0095, -122.397 45.0095) and LINESTRING (-122.397 45.0095, -122.397 45.0095) at -122.39692372239337 45.009534975929078\n"
     ]
    },
    {
     "name": "stdout",
     "output_type": "stream",
     "text": [
      "0.95\n"
     ]
    },
    {
     "name": "stderr",
     "output_type": "stream",
     "text": [
      "TopologyException: found non-noded intersection between LINESTRING (-122.397 45.0095, -122.397 45.0095) and LINESTRING (-122.397 45.0095, -122.397 45.0095) at -122.39692372239337 45.009534975929078\n"
     ]
    },
    {
     "name": "stdout",
     "output_type": "stream",
     "text": [
      "0.96\n"
     ]
    },
    {
     "name": "stderr",
     "output_type": "stream",
     "text": [
      "TopologyException: found non-noded intersection between LINESTRING (-122.397 45.0095, -122.397 45.0095) and LINESTRING (-122.397 45.0095, -122.397 45.0095) at -122.39692372239337 45.009534975929078\n"
     ]
    },
    {
     "name": "stdout",
     "output_type": "stream",
     "text": [
      "0.97\n"
     ]
    },
    {
     "name": "stderr",
     "output_type": "stream",
     "text": [
      "TopologyException: found non-noded intersection between LINESTRING (-122.397 45.0095, -122.397 45.0095) and LINESTRING (-122.397 45.0095, -122.397 45.0095) at -122.39692372239337 45.009534975929078\n"
     ]
    },
    {
     "name": "stdout",
     "output_type": "stream",
     "text": [
      "0.98\n"
     ]
    }
   ],
   "source": [
    "# Radial interpolation of timber/non-timber for animation\n",
    "timber_polys = []\n",
    "private_polys = []\n",
    "corporate_polys = []\n",
    "timo_polys = []\n",
    "state_polys = []\n",
    "usfs_timber_polys = []\n",
    "non_timber_polys = []\n",
    "\n",
    "\n",
    "boundary = gpd.GeoDataFrame(geometry=[beachie_perimeters.iloc[0].geometry])\n",
    "for n in range(len(times)-1):\n",
    "    i = 0\n",
    "    prev_poly = beachie_perimeters.iloc[0]\n",
    "    while beachie_perimeters.iloc[i].GDB_TO_DATE <= times[n]:\n",
    "        prev_poly = beachie_perimeters.iloc[i]\n",
    "        i += 1\n",
    "    next_poly = beachie_perimeters.iloc[i]\n",
    "    \n",
    "    ratio = (times[n] - prev_poly.GDB_TO_DATE + 1)/(next_poly.GDB_TO_DATE - prev_poly.GDB_TO_DATE) \n",
    "    centroid = prev_poly.geometry.centroid\n",
    "    radius = ratio*max(abs(centroid.x - next_poly.geometry.bounds[0]), abs(centroid.y - next_poly.geometry.bounds[1]))\n",
    "    boundary_addition_points = []\n",
    "    for theta in np.linspace(0, 2*np.pi, 1000):\n",
    "        boundary_addition_points.append((centroid.x + radius*np.cos(theta), centroid.y + radius*np.sin(theta)))\n",
    "    boundary_addition = Polygon(boundary_addition_points)\n",
    "    \n",
    "    boundary_addition_gdf = gpd.GeoDataFrame(geometry=[boundary_addition])\n",
    "    try:\n",
    "        boundary = gpd.overlay(boundary, boundary_addition_gdf, how='union')\n",
    "    except:\n",
    "        pass\n",
    "    \n",
    "    if len(intersections['federal'][next_poly.GDB_TO_DATE].geometry) > 0:\n",
    "        non_timber_polys.append(gpd.overlay(boundary, intersections['federal'][next_poly.GDB_TO_DATE], how='intersection'))\n",
    "    else:\n",
    "        non_timber_polys.append(gpd.GeoDataFrame(geometry=[]))\n",
    "    \n",
    "    if len(intersections['private'][next_poly.GDB_TO_DATE].geometry) > 0:\n",
    "        private_polys.append(gpd.overlay(boundary, intersections['private'][next_poly.GDB_TO_DATE], how='intersection'))\n",
    "    else:\n",
    "        private_polys.append(gpd.GeoDataFrame(geometry=[]))\n",
    "        \n",
    "    if len(intersections['corporate'][next_poly.GDB_TO_DATE].geometry) > 0:\n",
    "        corporate_polys.append(gpd.overlay(boundary, intersections['corporate'][next_poly.GDB_TO_DATE], how='intersection'))\n",
    "    else:\n",
    "        corporate_polys.append(gpd.GeoDataFrame(geometry=[]))\n",
    "        \n",
    "    if len(intersections['timo'][next_poly.GDB_TO_DATE].geometry) > 0:\n",
    "        timo_polys.append(gpd.overlay(boundary, intersections['timo'][next_poly.GDB_TO_DATE], how='intersection'))\n",
    "    else:\n",
    "        timo_polys.append(gpd.GeoDataFrame(geometry=[]))\n",
    "\n",
    "    if len(intersections['state'][next_poly.GDB_TO_DATE].geometry) > 0:\n",
    "        state_polys.append(gpd.overlay(boundary, intersections['state'][next_poly.GDB_TO_DATE], how='intersection'))\n",
    "    else:\n",
    "        state_polys.append(gpd.GeoDataFrame(geometry=[]))\n",
    "        \n",
    "    if len(intersections['usfs_timber'][next_poly.GDB_TO_DATE].geometry) > 0:\n",
    "        usfs_timber_polys.append(gpd.overlay(boundary, intersections['usfs_timber'][next_poly.GDB_TO_DATE], how='intersection'))\n",
    "    else:\n",
    "        usfs_timber_polys.append(gpd.GeoDataFrame(geometry=[]))\n",
    "        \n",
    "    print(n/len(times))"
   ]
  },
  {
   "cell_type": "code",
   "execution_count": null,
   "metadata": {
    "scrolled": true
   },
   "outputs": [
    {
     "name": "stderr",
     "output_type": "stream",
     "text": [
      "/home/ian/.local/lib/python3.7/site-packages/geopandas/plotting.py:487: UserWarning: The GeoDataFrame you are attempting to plot is empty. Nothing has been displayed.\n",
      "  UserWarning,\n",
      "/home/ian/.local/lib/python3.7/site-packages/geopandas/plotting.py:487: UserWarning: The GeoDataFrame you are attempting to plot is empty. Nothing has been displayed.\n",
      "  UserWarning,\n",
      "/home/ian/.local/lib/python3.7/site-packages/geopandas/plotting.py:487: UserWarning: The GeoDataFrame you are attempting to plot is empty. Nothing has been displayed.\n",
      "  UserWarning,\n",
      "/home/ian/.local/lib/python3.7/site-packages/geopandas/plotting.py:487: UserWarning: The GeoDataFrame you are attempting to plot is empty. Nothing has been displayed.\n",
      "  UserWarning,\n",
      "/home/ian/.local/lib/python3.7/site-packages/geopandas/plotting.py:487: UserWarning: The GeoDataFrame you are attempting to plot is empty. Nothing has been displayed.\n",
      "  UserWarning,\n",
      "/home/ian/.local/lib/python3.7/site-packages/geopandas/plotting.py:487: UserWarning: The GeoDataFrame you are attempting to plot is empty. Nothing has been displayed.\n",
      "  UserWarning,\n",
      "/home/ian/.local/lib/python3.7/site-packages/geopandas/plotting.py:487: UserWarning: The GeoDataFrame you are attempting to plot is empty. Nothing has been displayed.\n",
      "  UserWarning,\n",
      "/home/ian/.local/lib/python3.7/site-packages/geopandas/plotting.py:487: UserWarning: The GeoDataFrame you are attempting to plot is empty. Nothing has been displayed.\n",
      "  UserWarning,\n",
      "/home/ian/.local/lib/python3.7/site-packages/geopandas/plotting.py:487: UserWarning: The GeoDataFrame you are attempting to plot is empty. Nothing has been displayed.\n",
      "  UserWarning,\n",
      "/home/ian/.local/lib/python3.7/site-packages/geopandas/plotting.py:487: UserWarning: The GeoDataFrame you are attempting to plot is empty. Nothing has been displayed.\n",
      "  UserWarning,\n",
      "/home/ian/.local/lib/python3.7/site-packages/geopandas/plotting.py:487: UserWarning: The GeoDataFrame you are attempting to plot is empty. Nothing has been displayed.\n",
      "  UserWarning,\n",
      "/home/ian/.local/lib/python3.7/site-packages/geopandas/plotting.py:487: UserWarning: The GeoDataFrame you are attempting to plot is empty. Nothing has been displayed.\n",
      "  UserWarning,\n",
      "/home/ian/.local/lib/python3.7/site-packages/geopandas/plotting.py:487: UserWarning: The GeoDataFrame you are attempting to plot is empty. Nothing has been displayed.\n",
      "  UserWarning,\n",
      "/home/ian/.local/lib/python3.7/site-packages/geopandas/plotting.py:487: UserWarning: The GeoDataFrame you are attempting to plot is empty. Nothing has been displayed.\n",
      "  UserWarning,\n",
      "/home/ian/.local/lib/python3.7/site-packages/geopandas/plotting.py:487: UserWarning: The GeoDataFrame you are attempting to plot is empty. Nothing has been displayed.\n",
      "  UserWarning,\n",
      "/home/ian/.local/lib/python3.7/site-packages/geopandas/plotting.py:487: UserWarning: The GeoDataFrame you are attempting to plot is empty. Nothing has been displayed.\n",
      "  UserWarning,\n",
      "/home/ian/.local/lib/python3.7/site-packages/geopandas/plotting.py:487: UserWarning: The GeoDataFrame you are attempting to plot is empty. Nothing has been displayed.\n",
      "  UserWarning,\n",
      "/home/ian/.local/lib/python3.7/site-packages/geopandas/plotting.py:487: UserWarning: The GeoDataFrame you are attempting to plot is empty. Nothing has been displayed.\n",
      "  UserWarning,\n",
      "/home/ian/.local/lib/python3.7/site-packages/ipykernel_launcher.py:7: RuntimeWarning: More than 20 figures have been opened. Figures created through the pyplot interface (`matplotlib.pyplot.figure`) are retained until explicitly closed and may consume too much memory. (To control this warning, see the rcParam `figure.max_open_warning`).\n",
      "  import sys\n",
      "/home/ian/.local/lib/python3.7/site-packages/geopandas/plotting.py:487: UserWarning: The GeoDataFrame you are attempting to plot is empty. Nothing has been displayed.\n",
      "  UserWarning,\n",
      "/home/ian/.local/lib/python3.7/site-packages/ipykernel_launcher.py:7: RuntimeWarning: More than 20 figures have been opened. Figures created through the pyplot interface (`matplotlib.pyplot.figure`) are retained until explicitly closed and may consume too much memory. (To control this warning, see the rcParam `figure.max_open_warning`).\n",
      "  import sys\n",
      "/home/ian/.local/lib/python3.7/site-packages/geopandas/plotting.py:487: UserWarning: The GeoDataFrame you are attempting to plot is empty. Nothing has been displayed.\n",
      "  UserWarning,\n",
      "/home/ian/.local/lib/python3.7/site-packages/ipykernel_launcher.py:7: RuntimeWarning: More than 20 figures have been opened. Figures created through the pyplot interface (`matplotlib.pyplot.figure`) are retained until explicitly closed and may consume too much memory. (To control this warning, see the rcParam `figure.max_open_warning`).\n",
      "  import sys\n",
      "/home/ian/.local/lib/python3.7/site-packages/geopandas/plotting.py:487: UserWarning: The GeoDataFrame you are attempting to plot is empty. Nothing has been displayed.\n",
      "  UserWarning,\n",
      "/home/ian/.local/lib/python3.7/site-packages/ipykernel_launcher.py:7: RuntimeWarning: More than 20 figures have been opened. Figures created through the pyplot interface (`matplotlib.pyplot.figure`) are retained until explicitly closed and may consume too much memory. (To control this warning, see the rcParam `figure.max_open_warning`).\n",
      "  import sys\n",
      "/home/ian/.local/lib/python3.7/site-packages/geopandas/plotting.py:487: UserWarning: The GeoDataFrame you are attempting to plot is empty. Nothing has been displayed.\n",
      "  UserWarning,\n",
      "/home/ian/.local/lib/python3.7/site-packages/ipykernel_launcher.py:7: RuntimeWarning: More than 20 figures have been opened. Figures created through the pyplot interface (`matplotlib.pyplot.figure`) are retained until explicitly closed and may consume too much memory. (To control this warning, see the rcParam `figure.max_open_warning`).\n",
      "  import sys\n",
      "/home/ian/.local/lib/python3.7/site-packages/ipykernel_launcher.py:7: RuntimeWarning: More than 20 figures have been opened. Figures created through the pyplot interface (`matplotlib.pyplot.figure`) are retained until explicitly closed and may consume too much memory. (To control this warning, see the rcParam `figure.max_open_warning`).\n",
      "  import sys\n",
      "/home/ian/.local/lib/python3.7/site-packages/ipykernel_launcher.py:7: RuntimeWarning: More than 20 figures have been opened. Figures created through the pyplot interface (`matplotlib.pyplot.figure`) are retained until explicitly closed and may consume too much memory. (To control this warning, see the rcParam `figure.max_open_warning`).\n",
      "  import sys\n",
      "/home/ian/.local/lib/python3.7/site-packages/ipykernel_launcher.py:7: RuntimeWarning: More than 20 figures have been opened. Figures created through the pyplot interface (`matplotlib.pyplot.figure`) are retained until explicitly closed and may consume too much memory. (To control this warning, see the rcParam `figure.max_open_warning`).\n",
      "  import sys\n",
      "/home/ian/.local/lib/python3.7/site-packages/ipykernel_launcher.py:7: RuntimeWarning: More than 20 figures have been opened. Figures created through the pyplot interface (`matplotlib.pyplot.figure`) are retained until explicitly closed and may consume too much memory. (To control this warning, see the rcParam `figure.max_open_warning`).\n",
      "  import sys\n",
      "/home/ian/.local/lib/python3.7/site-packages/ipykernel_launcher.py:7: RuntimeWarning: More than 20 figures have been opened. Figures created through the pyplot interface (`matplotlib.pyplot.figure`) are retained until explicitly closed and may consume too much memory. (To control this warning, see the rcParam `figure.max_open_warning`).\n",
      "  import sys\n",
      "/home/ian/.local/lib/python3.7/site-packages/ipykernel_launcher.py:7: RuntimeWarning: More than 20 figures have been opened. Figures created through the pyplot interface (`matplotlib.pyplot.figure`) are retained until explicitly closed and may consume too much memory. (To control this warning, see the rcParam `figure.max_open_warning`).\n",
      "  import sys\n",
      "/home/ian/.local/lib/python3.7/site-packages/ipykernel_launcher.py:7: RuntimeWarning: More than 20 figures have been opened. Figures created through the pyplot interface (`matplotlib.pyplot.figure`) are retained until explicitly closed and may consume too much memory. (To control this warning, see the rcParam `figure.max_open_warning`).\n",
      "  import sys\n"
     ]
    },
    {
     "name": "stderr",
     "output_type": "stream",
     "text": [
      "/home/ian/.local/lib/python3.7/site-packages/ipykernel_launcher.py:7: RuntimeWarning: More than 20 figures have been opened. Figures created through the pyplot interface (`matplotlib.pyplot.figure`) are retained until explicitly closed and may consume too much memory. (To control this warning, see the rcParam `figure.max_open_warning`).\n",
      "  import sys\n",
      "/home/ian/.local/lib/python3.7/site-packages/ipykernel_launcher.py:7: RuntimeWarning: More than 20 figures have been opened. Figures created through the pyplot interface (`matplotlib.pyplot.figure`) are retained until explicitly closed and may consume too much memory. (To control this warning, see the rcParam `figure.max_open_warning`).\n",
      "  import sys\n",
      "/home/ian/.local/lib/python3.7/site-packages/ipykernel_launcher.py:7: RuntimeWarning: More than 20 figures have been opened. Figures created through the pyplot interface (`matplotlib.pyplot.figure`) are retained until explicitly closed and may consume too much memory. (To control this warning, see the rcParam `figure.max_open_warning`).\n",
      "  import sys\n",
      "/home/ian/.local/lib/python3.7/site-packages/ipykernel_launcher.py:7: RuntimeWarning: More than 20 figures have been opened. Figures created through the pyplot interface (`matplotlib.pyplot.figure`) are retained until explicitly closed and may consume too much memory. (To control this warning, see the rcParam `figure.max_open_warning`).\n",
      "  import sys\n",
      "/home/ian/.local/lib/python3.7/site-packages/ipykernel_launcher.py:7: RuntimeWarning: More than 20 figures have been opened. Figures created through the pyplot interface (`matplotlib.pyplot.figure`) are retained until explicitly closed and may consume too much memory. (To control this warning, see the rcParam `figure.max_open_warning`).\n",
      "  import sys\n",
      "/home/ian/.local/lib/python3.7/site-packages/ipykernel_launcher.py:7: RuntimeWarning: More than 20 figures have been opened. Figures created through the pyplot interface (`matplotlib.pyplot.figure`) are retained until explicitly closed and may consume too much memory. (To control this warning, see the rcParam `figure.max_open_warning`).\n",
      "  import sys\n",
      "/home/ian/.local/lib/python3.7/site-packages/ipykernel_launcher.py:7: RuntimeWarning: More than 20 figures have been opened. Figures created through the pyplot interface (`matplotlib.pyplot.figure`) are retained until explicitly closed and may consume too much memory. (To control this warning, see the rcParam `figure.max_open_warning`).\n",
      "  import sys\n",
      "/home/ian/.local/lib/python3.7/site-packages/ipykernel_launcher.py:7: RuntimeWarning: More than 20 figures have been opened. Figures created through the pyplot interface (`matplotlib.pyplot.figure`) are retained until explicitly closed and may consume too much memory. (To control this warning, see the rcParam `figure.max_open_warning`).\n",
      "  import sys\n",
      "/home/ian/.local/lib/python3.7/site-packages/ipykernel_launcher.py:7: RuntimeWarning: More than 20 figures have been opened. Figures created through the pyplot interface (`matplotlib.pyplot.figure`) are retained until explicitly closed and may consume too much memory. (To control this warning, see the rcParam `figure.max_open_warning`).\n",
      "  import sys\n",
      "/home/ian/.local/lib/python3.7/site-packages/ipykernel_launcher.py:7: RuntimeWarning: More than 20 figures have been opened. Figures created through the pyplot interface (`matplotlib.pyplot.figure`) are retained until explicitly closed and may consume too much memory. (To control this warning, see the rcParam `figure.max_open_warning`).\n",
      "  import sys\n",
      "/home/ian/.local/lib/python3.7/site-packages/ipykernel_launcher.py:7: RuntimeWarning: More than 20 figures have been opened. Figures created through the pyplot interface (`matplotlib.pyplot.figure`) are retained until explicitly closed and may consume too much memory. (To control this warning, see the rcParam `figure.max_open_warning`).\n",
      "  import sys\n",
      "/home/ian/.local/lib/python3.7/site-packages/ipykernel_launcher.py:7: RuntimeWarning: More than 20 figures have been opened. Figures created through the pyplot interface (`matplotlib.pyplot.figure`) are retained until explicitly closed and may consume too much memory. (To control this warning, see the rcParam `figure.max_open_warning`).\n",
      "  import sys\n",
      "/home/ian/.local/lib/python3.7/site-packages/ipykernel_launcher.py:7: RuntimeWarning: More than 20 figures have been opened. Figures created through the pyplot interface (`matplotlib.pyplot.figure`) are retained until explicitly closed and may consume too much memory. (To control this warning, see the rcParam `figure.max_open_warning`).\n",
      "  import sys\n",
      "/home/ian/.local/lib/python3.7/site-packages/ipykernel_launcher.py:7: RuntimeWarning: More than 20 figures have been opened. Figures created through the pyplot interface (`matplotlib.pyplot.figure`) are retained until explicitly closed and may consume too much memory. (To control this warning, see the rcParam `figure.max_open_warning`).\n",
      "  import sys\n",
      "/home/ian/.local/lib/python3.7/site-packages/ipykernel_launcher.py:7: RuntimeWarning: More than 20 figures have been opened. Figures created through the pyplot interface (`matplotlib.pyplot.figure`) are retained until explicitly closed and may consume too much memory. (To control this warning, see the rcParam `figure.max_open_warning`).\n",
      "  import sys\n",
      "/home/ian/.local/lib/python3.7/site-packages/ipykernel_launcher.py:7: RuntimeWarning: More than 20 figures have been opened. Figures created through the pyplot interface (`matplotlib.pyplot.figure`) are retained until explicitly closed and may consume too much memory. (To control this warning, see the rcParam `figure.max_open_warning`).\n",
      "  import sys\n",
      "/home/ian/.local/lib/python3.7/site-packages/ipykernel_launcher.py:7: RuntimeWarning: More than 20 figures have been opened. Figures created through the pyplot interface (`matplotlib.pyplot.figure`) are retained until explicitly closed and may consume too much memory. (To control this warning, see the rcParam `figure.max_open_warning`).\n",
      "  import sys\n",
      "/home/ian/.local/lib/python3.7/site-packages/ipykernel_launcher.py:7: RuntimeWarning: More than 20 figures have been opened. Figures created through the pyplot interface (`matplotlib.pyplot.figure`) are retained until explicitly closed and may consume too much memory. (To control this warning, see the rcParam `figure.max_open_warning`).\n",
      "  import sys\n",
      "/home/ian/.local/lib/python3.7/site-packages/ipykernel_launcher.py:7: RuntimeWarning: More than 20 figures have been opened. Figures created through the pyplot interface (`matplotlib.pyplot.figure`) are retained until explicitly closed and may consume too much memory. (To control this warning, see the rcParam `figure.max_open_warning`).\n",
      "  import sys\n",
      "/home/ian/.local/lib/python3.7/site-packages/ipykernel_launcher.py:7: RuntimeWarning: More than 20 figures have been opened. Figures created through the pyplot interface (`matplotlib.pyplot.figure`) are retained until explicitly closed and may consume too much memory. (To control this warning, see the rcParam `figure.max_open_warning`).\n",
      "  import sys\n",
      "/home/ian/.local/lib/python3.7/site-packages/ipykernel_launcher.py:7: RuntimeWarning: More than 20 figures have been opened. Figures created through the pyplot interface (`matplotlib.pyplot.figure`) are retained until explicitly closed and may consume too much memory. (To control this warning, see the rcParam `figure.max_open_warning`).\n",
      "  import sys\n",
      "/home/ian/.local/lib/python3.7/site-packages/ipykernel_launcher.py:7: RuntimeWarning: More than 20 figures have been opened. Figures created through the pyplot interface (`matplotlib.pyplot.figure`) are retained until explicitly closed and may consume too much memory. (To control this warning, see the rcParam `figure.max_open_warning`).\n",
      "  import sys\n",
      "/home/ian/.local/lib/python3.7/site-packages/ipykernel_launcher.py:7: RuntimeWarning: More than 20 figures have been opened. Figures created through the pyplot interface (`matplotlib.pyplot.figure`) are retained until explicitly closed and may consume too much memory. (To control this warning, see the rcParam `figure.max_open_warning`).\n",
      "  import sys\n",
      "/home/ian/.local/lib/python3.7/site-packages/ipykernel_launcher.py:7: RuntimeWarning: More than 20 figures have been opened. Figures created through the pyplot interface (`matplotlib.pyplot.figure`) are retained until explicitly closed and may consume too much memory. (To control this warning, see the rcParam `figure.max_open_warning`).\n",
      "  import sys\n"
     ]
    },
    {
     "name": "stderr",
     "output_type": "stream",
     "text": [
      "/home/ian/.local/lib/python3.7/site-packages/ipykernel_launcher.py:7: RuntimeWarning: More than 20 figures have been opened. Figures created through the pyplot interface (`matplotlib.pyplot.figure`) are retained until explicitly closed and may consume too much memory. (To control this warning, see the rcParam `figure.max_open_warning`).\n",
      "  import sys\n",
      "/home/ian/.local/lib/python3.7/site-packages/ipykernel_launcher.py:7: RuntimeWarning: More than 20 figures have been opened. Figures created through the pyplot interface (`matplotlib.pyplot.figure`) are retained until explicitly closed and may consume too much memory. (To control this warning, see the rcParam `figure.max_open_warning`).\n",
      "  import sys\n",
      "/home/ian/.local/lib/python3.7/site-packages/ipykernel_launcher.py:7: RuntimeWarning: More than 20 figures have been opened. Figures created through the pyplot interface (`matplotlib.pyplot.figure`) are retained until explicitly closed and may consume too much memory. (To control this warning, see the rcParam `figure.max_open_warning`).\n",
      "  import sys\n",
      "/home/ian/.local/lib/python3.7/site-packages/ipykernel_launcher.py:7: RuntimeWarning: More than 20 figures have been opened. Figures created through the pyplot interface (`matplotlib.pyplot.figure`) are retained until explicitly closed and may consume too much memory. (To control this warning, see the rcParam `figure.max_open_warning`).\n",
      "  import sys\n",
      "/home/ian/.local/lib/python3.7/site-packages/ipykernel_launcher.py:7: RuntimeWarning: More than 20 figures have been opened. Figures created through the pyplot interface (`matplotlib.pyplot.figure`) are retained until explicitly closed and may consume too much memory. (To control this warning, see the rcParam `figure.max_open_warning`).\n",
      "  import sys\n",
      "/home/ian/.local/lib/python3.7/site-packages/ipykernel_launcher.py:7: RuntimeWarning: More than 20 figures have been opened. Figures created through the pyplot interface (`matplotlib.pyplot.figure`) are retained until explicitly closed and may consume too much memory. (To control this warning, see the rcParam `figure.max_open_warning`).\n",
      "  import sys\n",
      "/home/ian/.local/lib/python3.7/site-packages/ipykernel_launcher.py:7: RuntimeWarning: More than 20 figures have been opened. Figures created through the pyplot interface (`matplotlib.pyplot.figure`) are retained until explicitly closed and may consume too much memory. (To control this warning, see the rcParam `figure.max_open_warning`).\n",
      "  import sys\n",
      "/home/ian/.local/lib/python3.7/site-packages/ipykernel_launcher.py:7: RuntimeWarning: More than 20 figures have been opened. Figures created through the pyplot interface (`matplotlib.pyplot.figure`) are retained until explicitly closed and may consume too much memory. (To control this warning, see the rcParam `figure.max_open_warning`).\n",
      "  import sys\n",
      "/home/ian/.local/lib/python3.7/site-packages/ipykernel_launcher.py:7: RuntimeWarning: More than 20 figures have been opened. Figures created through the pyplot interface (`matplotlib.pyplot.figure`) are retained until explicitly closed and may consume too much memory. (To control this warning, see the rcParam `figure.max_open_warning`).\n",
      "  import sys\n",
      "/home/ian/.local/lib/python3.7/site-packages/ipykernel_launcher.py:7: RuntimeWarning: More than 20 figures have been opened. Figures created through the pyplot interface (`matplotlib.pyplot.figure`) are retained until explicitly closed and may consume too much memory. (To control this warning, see the rcParam `figure.max_open_warning`).\n",
      "  import sys\n",
      "/home/ian/.local/lib/python3.7/site-packages/ipykernel_launcher.py:7: RuntimeWarning: More than 20 figures have been opened. Figures created through the pyplot interface (`matplotlib.pyplot.figure`) are retained until explicitly closed and may consume too much memory. (To control this warning, see the rcParam `figure.max_open_warning`).\n",
      "  import sys\n",
      "/home/ian/.local/lib/python3.7/site-packages/ipykernel_launcher.py:7: RuntimeWarning: More than 20 figures have been opened. Figures created through the pyplot interface (`matplotlib.pyplot.figure`) are retained until explicitly closed and may consume too much memory. (To control this warning, see the rcParam `figure.max_open_warning`).\n",
      "  import sys\n",
      "/home/ian/.local/lib/python3.7/site-packages/ipykernel_launcher.py:7: RuntimeWarning: More than 20 figures have been opened. Figures created through the pyplot interface (`matplotlib.pyplot.figure`) are retained until explicitly closed and may consume too much memory. (To control this warning, see the rcParam `figure.max_open_warning`).\n",
      "  import sys\n",
      "/home/ian/.local/lib/python3.7/site-packages/ipykernel_launcher.py:7: RuntimeWarning: More than 20 figures have been opened. Figures created through the pyplot interface (`matplotlib.pyplot.figure`) are retained until explicitly closed and may consume too much memory. (To control this warning, see the rcParam `figure.max_open_warning`).\n",
      "  import sys\n",
      "/home/ian/.local/lib/python3.7/site-packages/ipykernel_launcher.py:7: RuntimeWarning: More than 20 figures have been opened. Figures created through the pyplot interface (`matplotlib.pyplot.figure`) are retained until explicitly closed and may consume too much memory. (To control this warning, see the rcParam `figure.max_open_warning`).\n",
      "  import sys\n",
      "/home/ian/.local/lib/python3.7/site-packages/ipykernel_launcher.py:7: RuntimeWarning: More than 20 figures have been opened. Figures created through the pyplot interface (`matplotlib.pyplot.figure`) are retained until explicitly closed and may consume too much memory. (To control this warning, see the rcParam `figure.max_open_warning`).\n",
      "  import sys\n",
      "/home/ian/.local/lib/python3.7/site-packages/ipykernel_launcher.py:7: RuntimeWarning: More than 20 figures have been opened. Figures created through the pyplot interface (`matplotlib.pyplot.figure`) are retained until explicitly closed and may consume too much memory. (To control this warning, see the rcParam `figure.max_open_warning`).\n",
      "  import sys\n"
     ]
    }
   ],
   "source": [
    "# Create animated plot\n",
    "plt.figure()\n",
    "xmin, ymin, xmax, ymax = beachie_perimeters.iloc[-1].geometry.bounds\n",
    "\n",
    "for n in range(len(times)-1):\n",
    "    plt.cla()\n",
    "    fig, axes = plt.subplots(2,1, figsize=(15, 15))\n",
    "    \n",
    "    i = 1\n",
    "    time = times[0]\n",
    "    while beachie_perimeters.iloc[i-1].GDB_TO_DATE < times[n]:\n",
    "        time = beachie_perimeters.iloc[i].GDB_TO_DATE\n",
    "        i += 1\n",
    "    \n",
    "    axes[0].set_xlim(xmin, xmax)\n",
    "    axes[0].set_ylim(ymin, ymax)\n",
    "    axes[0].get_xaxis().set_ticks([])\n",
    "    axes[0].get_yaxis().set_ticks([])\n",
    "    \n",
    "    non_timber_polys[n].plot(ax=axes[0], color='b')\n",
    "    usfs_timber_polys[n].plot(ax=axes[0], color='r')\n",
    "    private_polys[n].plot(ax=axes[0], color='r')\n",
    "    corporate_polys[n].plot(ax=axes[0], color='r')\n",
    "    timo_polys[n].plot(ax=axes[0], color='r')\n",
    "    state_polys[n].plot(ax=axes[0], color='r')\n",
    "    \n",
    "    ctx.add_basemap(axes[0], crs={'init': 'epsg:4326'}, url=ctx.sources.ST_TERRAIN)\n",
    "\n",
    "    readable_times = []\n",
    "    for time in times[:n-1]:\n",
    "        readable_times.append(datetime.fromtimestamp(time/1000, timezone.utc).strftime(\"%m/%d\"))\n",
    "    axes[1].plot(times[:n-1], non_timber_acres_anim[:n-1], color='b')\n",
    "    axes[1].plot(times[:n-1], timber_acres_anim[:n-1], color='r')\n",
    "    axes[1].set_xticklabels(readable_times)\n",
    "    axes[1].tick_params(axis='both', labelsize=20)\n",
    "    axes[1].set_ylabel('Acres Burned', fontsize='xx-large')\n",
    "    \n",
    "#     axes[2].pie([timber_acres_anim[n], non_timber_acres_anim[n]], labels=['Timber', 'Non-Timber'], colors=['r', 'b'])\n",
    "    \n",
    "    fig.suptitle(datetime.fromtimestamp(times[n]/1000, timezone.utc).strftime(\"%m/%d/%Y, %H:00\"), fontsize='xx-large')\n",
    "    plt.savefig('frames/rame%03d.png' %n)"
   ]
  },
  {
   "cell_type": "code",
   "execution_count": 25,
   "metadata": {},
   "outputs": [
    {
     "name": "stdout",
     "output_type": "stream",
     "text": [
      "None\n"
     ]
    }
   ],
   "source": []
  },
  {
   "cell_type": "code",
   "execution_count": 75,
   "metadata": {},
   "outputs": [
    {
     "data": {
      "image/png": "[encoded data removed]",
      "text/plain": [
       "<Figure size 432x288 with 1 Axes>"
      ]
     },
     "metadata": {},
     "output_type": "display_data"
    }
   ],
   "source": [
    "# Plot acres burned per category\n",
    "latest_time = beachie_perimeters.iloc[9].GDB_TO_DATE\n",
    "\n",
    "labels = list(ownerships.keys())\n",
    "acres = []\n",
    "for label in labels:\n",
    "    acres.append(np.sum(intersections[label][latest_time].area))\n",
    "\n",
    "acres = np.asarray(acres)\n",
    "acres = acres / np.sqrt(np.sum(acres**2))\n",
    "plt.pie(acres, labels=labels)\n",
    "plt.show()"
   ]
  }
 ],
 "metadata": {
  "kernelspec": {
   "display_name": "Python 3",
   "language": "python",
   "name": "python3"
  },
  "language_info": {
   "codemirror_mode": {
    "name": "ipython",
    "version": 3
   },
   "file_extension": ".py",
   "mimetype": "text/x-python",
   "name": "python",
   "nbconvert_exporter": "python",
   "pygments_lexer": "ipython3",
   "version": "3.7.3"
  }
 },
 "nbformat": 4,
 "nbformat_minor": 2
}
